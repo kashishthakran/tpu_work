{
 "cells": [
  {
   "cell_type": "code",
   "execution_count": 15,
   "metadata": {},
   "outputs": [],
   "source": [
    "import numpy as np\n",
    "\n",
    "from sklearn.cluster import KMeans\n",
    "from skimage import morphology\n",
    "from skimage import measure\n",
    "import cv2\n",
    "from PIL import Image\n",
    "import matplotlib.pyplot as plt"
   ]
  },
  {
   "cell_type": "code",
   "execution_count": 12,
   "metadata": {},
   "outputs": [],
   "source": [
    "def get_lungs_mask_for_slice(slice_array):\n",
    "    \"\"\"\n",
    "    Performs the slices segmentation and returns a lungs mask\n",
    "    :param slice_array: ndarray of a dicom slice data\n",
    "    :return: ndarray of dicom slice data where values are equal to 1 or 0:\n",
    "     1 is the pixel belonging to lungs, 0 is the pixel belonging to other structures\n",
    "    \"\"\"\n",
    "    rows_num = slice_array.shape[0]\n",
    "    cols_num = slice_array.shape[1]\n",
    "\n",
    "    # Global image normalization\n",
    "    global_mean = np.mean(slice_array)\n",
    "    global_std = np.std(slice_array)\n",
    "    norm_slice = slice_array - global_mean\n",
    "    norm_slice = norm_slice / global_std\n",
    "\n",
    "    # Find the mean value for the middle area of the slice\n",
    "    middle_slice = norm_slice[int(cols_num / 5): int(cols_num / 5 * 4),\n",
    "                              int(rows_num / 5): int(rows_num / 5 * 4)]\n",
    "    middle_mean = np.mean(middle_slice)\n",
    "\n",
    "    # Smoothing the intensity peaks by middle mean value\n",
    "    norm_slice_min = np.min(norm_slice)\n",
    "    norm_slice_max = np.max(norm_slice)\n",
    "    norm_slice[norm_slice == norm_slice_min] = middle_mean\n",
    "    norm_slice[norm_slice == norm_slice_max] = middle_mean\n",
    "\n",
    "    # Use k-means to separate tissue background and air foreground of the middle\n",
    "    kmeans = KMeans(n_clusters=2).\\\n",
    "        fit(np.reshape(middle_slice, [np.prod(middle_slice.shape), 1]))\n",
    "    cluster_centers = sorted(kmeans.cluster_centers_.flatten())\n",
    "\n",
    "    # Thresholding of the slice\n",
    "    intencity_threshold = np.mean(cluster_centers)\n",
    "#     print(intencity_threshold)\n",
    "    thresholded_slice = np.where(slice_array < intencity_threshold, 1.0, 0.0)\n",
    "\n",
    "    # Make erosion and dilation to smooth noises\n",
    "    ef_size = 3\n",
    "    df_size = 9\n",
    "    eroded_slice = morphology.erosion(thresholded_slice, np.ones([ef_size, ef_size]))\n",
    "    dilated_slice = morphology.dilation(eroded_slice, np.ones([df_size, df_size]))\n",
    "\n",
    "    # Find regions which are fit to the estimated position of lungs\n",
    "    labels = measure.label(dilated_slice)\n",
    "    regions = measure.regionprops(labels)\n",
    "    fit_labels = []\n",
    "    for prop in regions:\n",
    "        bbox = prop.bbox\n",
    "        if bbox[2] - bbox[0] < rows_num   and \\\n",
    "           bbox[3] - bbox[1] < cols_num  and \\\n",
    "           bbox[0] > rows_num / 5 and \\\n",
    "           bbox[2] < cols_num / 5 * 4:\n",
    "            fit_labels.append(prop.label)\n",
    "\n",
    "    # Creating lungs mask\n",
    "    lungs_mask = np.ndarray([rows_num, cols_num], dtype=np.uint8)\n",
    "    lungs_mask[:] = 0\n",
    "    for lb in fit_labels:\n",
    "        lungs_mask = lungs_mask + np.where(labels == lb, 1, 0)\n",
    "    lungs_mask = morphology.dilation(lungs_mask, np.ones([df_size, df_size]))\n",
    "\n",
    "    return lungs_mask"
   ]
  },
  {
   "cell_type": "code",
   "execution_count": 18,
   "metadata": {},
   "outputs": [
    {
     "name": "stdout",
     "output_type": "stream",
     "text": [
      "final_data/test/images_testing/\n",
      "['026_00000.png', '026_00001.png', '026_00002.png', '026_00003.png', '026_00004.png', '030_00000.png', '030_00001.png', '030_00002.png', '030_00003.png', '030_00004.png']\n"
     ]
    }
   ],
   "source": [
    "image_path = \"final_data/test/images_testing/\"\n",
    "dest = \"final_data/test/final_kmean/\"\n",
    "(root, dir, files) = next(os.walk(image_path))\n",
    "for file in files:\n",
    "    image=cv2.imread(root+file,0)\n",
    "    image=np.array(image)\n",
    "    mask=get_lungs_mask_for_slice(image)\n",
    "    mask = np.array(mask , dtype='uint8')\n",
    "    mask  = cv2.resize(mask, (128,128), interpolation = cv2.INTER_AREA)\n",
    "    plt.imsave(dest+file, mask)"
   ]
  }
 ],
 "metadata": {
  "kernelspec": {
   "display_name": "Python 3",
   "language": "python",
   "name": "python3"
  },
  "language_info": {
   "codemirror_mode": {
    "name": "ipython",
    "version": 3
   },
   "file_extension": ".py",
   "mimetype": "text/x-python",
   "name": "python",
   "nbconvert_exporter": "python",
   "pygments_lexer": "ipython3",
   "version": "3.6.9"
  }
 },
 "nbformat": 4,
 "nbformat_minor": 2
}
