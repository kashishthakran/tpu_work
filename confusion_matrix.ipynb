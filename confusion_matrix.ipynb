{
 "cells": [
  {
   "cell_type": "code",
   "execution_count": 5,
   "metadata": {},
   "outputs": [],
   "source": [
    "white=255\n",
    "black=0\n",
    "def update_cm(u,k):\n",
    "    if (u==black and k==black):\n",
    "        cm[0,0] = cm[0,0] + 1\n",
    "    elif (u==white and k==black):\n",
    "        cm[0,1] = cm[0,1] + 1\n",
    "    elif (u==black and k==white):\n",
    "        cm[1,0] = cm[1,0] + 1\n",
    "    else :\n",
    "        cm[1,1] = cm[1,1] + 1"
   ]
  },
  {
   "cell_type": "code",
   "execution_count": 3,
   "metadata": {},
   "outputs": [],
   "source": [
    "import cv2\n",
    "import numpy as np\n",
    "\n",
    "unet = cv2.imread('unet.png',0)\n",
    "ground_truth = cv2.imread('023_00001_GT.png', 0)\n",
    "ground_truth = cv2.resize(ground_truth, (128,128))\n",
    "T, ground_truth = cv2.threshold(ground_truth, 127, 255, cv2.THRESH_BINARY)\n",
    "kmean = cv2.imread('kmean.png',0)\n",
    "unet = preprocess_image(unet)\n",
    "kmean = preprocess_image(kmean)"
   ]
  },
  {
   "cell_type": "code",
   "execution_count": 6,
   "metadata": {},
   "outputs": [
    {
     "name": "stdout",
     "output_type": "stream",
     "text": [
      "[[12412   635]\n",
      " [  185  3152]]\n"
     ]
    }
   ],
   "source": [
    "cm = np.array([[0,0], [0,0]], np.int32)\n",
    "for u in range(128):\n",
    "    for k in range(128):\n",
    "        update_cm(kmean[u,k],ground_truth[u,k])\n",
    "print(cm)"
   ]
  },
  {
   "cell_type": "code",
   "execution_count": 7,
   "metadata": {},
   "outputs": [
    {
     "name": "stdout",
     "output_type": "stream",
     "text": [
      "[[12930   117]\n",
      " [  239  3098]]\n"
     ]
    }
   ],
   "source": [
    "cm = np.array([[0,0], [0,0]], np.int32)\n",
    "for u in range(128):\n",
    "    for k in range(128):\n",
    "        update_cm(unet[u,k],ground_truth[u,k])\n",
    "print(cm)"
   ]
  },
  {
   "cell_type": "code",
   "execution_count": 2,
   "metadata": {},
   "outputs": [],
   "source": [
    "def preprocess_image(image):\n",
    "    image = image.flatten()\n",
    "    index = np.where(image==30)\n",
    "    image[index] = 0\n",
    "    index = np.where(image!=0)\n",
    "    image[index] = 255\n",
    "    image = np.resize(image, (128,128))\n",
    "    return image"
   ]
  }
 ],
 "metadata": {
  "kernelspec": {
   "display_name": "Python 3",
   "language": "python",
   "name": "python3"
  },
  "language_info": {
   "codemirror_mode": {
    "name": "ipython",
    "version": 3
   },
   "file_extension": ".py",
   "mimetype": "text/x-python",
   "name": "python",
   "nbconvert_exporter": "python",
   "pygments_lexer": "ipython3",
   "version": "3.6.9"
  }
 },
 "nbformat": 4,
 "nbformat_minor": 2
}
