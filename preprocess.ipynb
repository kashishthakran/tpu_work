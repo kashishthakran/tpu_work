{
 "cells": [
  {
   "cell_type": "code",
   "execution_count": 63,
   "metadata": {},
   "outputs": [],
   "source": [
    "import os\n",
    "import PIL\n",
    "from PIL import Image"
   ]
  },
  {
   "cell_type": "code",
   "execution_count": 64,
   "metadata": {},
   "outputs": [],
   "source": [
    "images_path = \"final_data/images_training\"\n",
    "masks_path = \"final_data/masks_training\""
   ]
  },
  {
   "cell_type": "code",
   "execution_count": 65,
   "metadata": {},
   "outputs": [],
   "source": [
    "di = next(os.walk(images_path))[1]"
   ]
  },
  {
   "cell_type": "code",
   "execution_count": 66,
   "metadata": {},
   "outputs": [],
   "source": [
    "count=1"
   ]
  },
  {
   "cell_type": "code",
   "execution_count": 67,
   "metadata": {},
   "outputs": [],
   "source": [
    "def rename_images(root,files,dest,index):\n",
    "    for f in files:\n",
    "        im = Image.open(root + \"/\" + f)\n",
    "        a = str(index)\n",
    "        index=index+1\n",
    "        im.save(dest+a+\".png\")"
   ]
  },
  {
   "cell_type": "code",
   "execution_count": 68,
   "metadata": {},
   "outputs": [
    {
     "name": "stdout",
     "output_type": "stream",
     "text": [
      "final_data/masks_training/108\n",
      "25\n",
      "final_data/masks_training/131\n",
      "45\n",
      "final_data/masks_training/254\n",
      "25\n",
      "final_data/masks_training/94\n",
      "20\n",
      "final_data/masks_training/normal\n",
      "75\n"
     ]
    }
   ],
   "source": [
    "dest = \"final_data/final_masks/\"\n",
    "for d in di:\n",
    "    (root,_,files)=next(os.walk(masks_path+\"/\"+d))\n",
    "    print(root)\n",
    "    print(len(files))\n",
    "    rename_images(root, files, dest,count)\n",
    "    count = count + len(files)"
   ]
  }
 ],
 "metadata": {
  "kernelspec": {
   "display_name": "Python 3",
   "language": "python",
   "name": "python3"
  },
  "language_info": {
   "codemirror_mode": {
    "name": "ipython",
    "version": 3
   },
   "file_extension": ".py",
   "mimetype": "text/x-python",
   "name": "python",
   "nbconvert_exporter": "python",
   "pygments_lexer": "ipython3",
   "version": "3.6.9"
  }
 },
 "nbformat": 4,
 "nbformat_minor": 2
}
